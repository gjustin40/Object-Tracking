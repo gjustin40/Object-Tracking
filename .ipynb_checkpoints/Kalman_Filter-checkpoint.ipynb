{
 "cells": [
  {
   "cell_type": "code",
   "execution_count": 251,
   "id": "0f3eb54b",
   "metadata": {},
   "outputs": [
    {
     "data": {
      "application/javascript": [
       "IPython.notebook.set_autosave_interval(0)"
      ]
     },
     "metadata": {},
     "output_type": "display_data"
    },
    {
     "name": "stdout",
     "output_type": "stream",
     "text": [
      "Autosave disabled\n"
     ]
    }
   ],
   "source": [
    "%autosave 0"
   ]
  },
  {
   "cell_type": "code",
   "execution_count": 252,
   "id": "f03db465",
   "metadata": {
    "scrolled": true
   },
   "outputs": [
    {
     "name": "stdout",
     "output_type": "stream",
     "text": [
      "1.4.5\n"
     ]
    }
   ],
   "source": [
    "import numpy as np\n",
    "\n",
    "import filterpy\n",
    "from filterpy.kalman import KalmanFilter\n",
    "print(filterpy.__version__)"
   ]
  },
  {
   "cell_type": "markdown",
   "id": "b6ae0d44",
   "metadata": {},
   "source": [
    "# Example of Car Location\n",
    "**Variables**\n",
    "  - The measurement period : $\\triangle{t}$ = 1\n",
    "  - The random acceleration standard deviation : $\\sigma_a^2 = 0.15\\frac{m}{s^2}$\n",
    "  - The measurement error standard deviation : $\\sigma_{xm} = \\sigma_{ym} = 3m$"
   ]
  },
  {
   "cell_type": "markdown",
   "id": "a2bbccc0",
   "metadata": {},
   "source": [
    "### 0. System state($x_n$) & Measurement vector($z_n$)\n",
    "$$x_{{n}}=\\left[\\begin{array}{c}\n",
    "\\hat{{x}}_{n} \\\\\n",
    "\\hat{\\dot{x}}_{n} \\\\\n",
    "\\hat{\\ddot{x}}_{n} \\\\\n",
    "\\hat{y}_{n} \\\\\n",
    "\\hat{\\dot{y}}_{n} \\\\\n",
    "\\hat{\\ddot{y}}_{n}\n",
    "\\end{array}\\right] \\quad\n",
    "z_n = \\begin{bmatrix}\n",
    "x_{n,measured}\\\\ \n",
    "y_{n,measured}\n",
    "\\end{bmatrix}$$"
   ]
  },
  {
   "cell_type": "code",
   "execution_count": 253,
   "id": "0d1d35e7",
   "metadata": {},
   "outputs": [
    {
     "data": {
      "text/plain": [
       "KalmanFilter object\n",
       "dim_x = 6\n",
       "dim_z = 2\n",
       "dim_u = 0\n",
       "x = [[0. 0. 0. 0. 0. 0.]].T\n",
       "P = [[1. 0. 0. 0. 0. 0.]\n",
       "     [0. 1. 0. 0. 0. 0.]\n",
       "     [0. 0. 1. 0. 0. 0.]\n",
       "     [0. 0. 0. 1. 0. 0.]\n",
       "     [0. 0. 0. 0. 1. 0.]\n",
       "     [0. 0. 0. 0. 0. 1.]]\n",
       "x_prior = [[0. 0. 0. 0. 0. 0.]].T\n",
       "P_prior = [[1. 0. 0. 0. 0. 0.]\n",
       "           [0. 1. 0. 0. 0. 0.]\n",
       "           [0. 0. 1. 0. 0. 0.]\n",
       "           [0. 0. 0. 1. 0. 0.]\n",
       "           [0. 0. 0. 0. 1. 0.]\n",
       "           [0. 0. 0. 0. 0. 1.]]\n",
       "x_post = [[0. 0. 0. 0. 0. 0.]].T\n",
       "P_post = [[1. 0. 0. 0. 0. 0.]\n",
       "          [0. 1. 0. 0. 0. 0.]\n",
       "          [0. 0. 1. 0. 0. 0.]\n",
       "          [0. 0. 0. 1. 0. 0.]\n",
       "          [0. 0. 0. 0. 1. 0.]\n",
       "          [0. 0. 0. 0. 0. 1.]]\n",
       "F = [[1. 0. 0. 0. 0. 0.]\n",
       "     [0. 1. 0. 0. 0. 0.]\n",
       "     [0. 0. 1. 0. 0. 0.]\n",
       "     [0. 0. 0. 1. 0. 0.]\n",
       "     [0. 0. 0. 0. 1. 0.]\n",
       "     [0. 0. 0. 0. 0. 1.]]\n",
       "Q = [[1. 0. 0. 0. 0. 0.]\n",
       "     [0. 1. 0. 0. 0. 0.]\n",
       "     [0. 0. 1. 0. 0. 0.]\n",
       "     [0. 0. 0. 1. 0. 0.]\n",
       "     [0. 0. 0. 0. 1. 0.]\n",
       "     [0. 0. 0. 0. 0. 1.]]\n",
       "R = [[1. 0.]\n",
       "     [0. 1.]]\n",
       "H = [[0. 0. 0. 0. 0. 0.]\n",
       "     [0. 0. 0. 0. 0. 0.]]\n",
       "K = [[0. 0.]\n",
       "     [0. 0.]\n",
       "     [0. 0.]\n",
       "     [0. 0.]\n",
       "     [0. 0.]\n",
       "     [0. 0.]]\n",
       "y = [[0. 0.]].T\n",
       "S = [[0. 0.]\n",
       "     [0. 0.]]\n",
       "SI = [[0. 0.]\n",
       "      [0. 0.]]\n",
       "M = [[0. 0.]\n",
       "     [0. 0.]]\n",
       "B = None\n",
       "z = [[None None]].T\n",
       "log-likelihood = -708.3964185322641\n",
       "likelihood = 2.2250738585072014e-308\n",
       "mahalanobis = 0.0\n",
       "alpha = 1.0\n",
       "inv = <function inv at 0x0000025A5BC4B8B0>"
      ]
     },
     "execution_count": 253,
     "metadata": {},
     "output_type": "execute_result"
    }
   ],
   "source": [
    "kf = KalmanFilter(dim_x=6, dim_z=2)\n",
    "kf"
   ]
  },
  {
   "cell_type": "markdown",
   "id": "10e65006",
   "metadata": {},
   "source": [
    "### 1. State Transition Metrix(state extrapolation)\n",
    "\n",
    "$$\\boldsymbol{F}=\\left[\\begin{array}{cccccc}1 & \\Delta t & 0.5 \\Delta t^{2} & 0 & 0 & 0 \\\\ 0 & 1 & \\Delta t & 0 & 0 & 0 \\\\ 0 & 0 & 1 & 0 & 0 & 0 \\\\ 0 & 0 & 0 & 1 & \\Delta t & 0.5 \\Delta t^{2} \\\\ 0 & 0 & 0 & 0 & 1 & \\Delta t \\\\ 0 & 0 & 0 & 0 & 0 & 1\\end{array}\\right]=\\left[\\begin{array}{cccccc}1 & 1 & 0.5 & 0 & 0 & 0 \\\\ 0 & 1 & 1 & 0 & 0 & 0 \\\\ 0 & 0 & 1 & 0 & 0 & 0 \\\\ 0 & 0 & 0 & 1 & 1 & 0.5 \\\\ 0 & 0 & 0 & 0 & 1 & 1 \\\\ 0 & 0 & 0 & 0 & 0 & 1\\end{array}\\right]$$"
   ]
  },
  {
   "cell_type": "code",
   "execution_count": 254,
   "id": "e726ee43",
   "metadata": {},
   "outputs": [],
   "source": [
    "kf.F = np.array([\n",
    "    [1, 1, 0.5, 0, 0, 0], \n",
    "    [0, 1, 1, 0, 0, 0], \n",
    "    [0, 0, 1, 0, 0, 0], \n",
    "    [0, 0, 0, 1, 1, 0.5], \n",
    "    [0, 0, 0, 0, 1, 1],\n",
    "    [0, 0, 0, 0, 0, 1]\n",
    "])"
   ]
  },
  {
   "cell_type": "markdown",
   "id": "a37faef0",
   "metadata": {},
   "source": [
    "### 2. Process noise matrix\n",
    "$$\\boldsymbol{Q}=\\left[\\begin{array}{cccccc}\n",
    "\\frac{\\Delta t^{4}}{4} & \\frac{\\Delta t^{3}}{2} & \\frac{\\Delta t^{2}}{2} & 0 & 0 & 0 \\\\\n",
    "\\frac{\\Delta t^{3}}{2} & \\Delta t^{2} & \\Delta t & 0 & 0 & 0 \\\\\n",
    "\\frac{\\Delta t^{2}}{2} & \\Delta t & 1 & 0 & 0 & 0 \\\\\n",
    "0 & 0 & 0 & \\frac{\\Delta t^{4}}{4} & \\frac{\\Delta t^{2}}{2} & \\frac{\\Delta t^{2}}{2} \\\\\n",
    "0 & 0 & 0 & \\frac{\\Delta t^{2}}{2} & \\Delta t^{2} & \\Delta t \\\\\n",
    "0 & 0 & 0 & \\frac{\\Delta t^{2}}{2} & \\Delta t & 1\n",
    "\\end{array}\\right] \\sigma_{a}^{2}=\\left[\\begin{array}{cccccc}\n",
    "\\frac{1}{4} & \\frac{1}{2} & \\frac{1}{2} & 0 & 0 & 0 \\\\\n",
    "\\frac{1}{2} & 1 & 1 & 0 & 0 & 0 \\\\\n",
    "\\frac{1}{2} & 1 & 1 & 0 & 0 & 0 \\\\\n",
    "0 & 0 & 0 & \\frac{1}{4} & \\frac{1}{2} & \\frac{1}{2} \\\\\n",
    "0 & 0 & 0 & \\frac{1}{2} & 1 & 1 \\\\\n",
    "0 & 0 & 0 & \\frac{1}{2} & 1 & 1\n",
    "\\end{array}\\right] 0.15^{2}$$"
   ]
  },
  {
   "cell_type": "code",
   "execution_count": 255,
   "id": "40933f23",
   "metadata": {},
   "outputs": [],
   "source": [
    "kf.Q = np.array([\n",
    "    [0.25, 0.5, 0.5, 0, 0, 0], \n",
    "    [0.5, 1, 1, 0, 0, 0], \n",
    "    [0.5, 1, 1, 0, 0, 0], \n",
    "    [0, 0, 0, 0.25, 0.5, 0.5],\n",
    "    [0, 0, 0, 0.5, 1, 1],\n",
    "    [0, 0, 0, 0.5, 1, 1]\n",
    "])\n",
    "kf.Q *= 0.5**2"
   ]
  },
  {
   "cell_type": "markdown",
   "id": "9f45c97d",
   "metadata": {},
   "source": [
    "### 3. Measurement uncertainty\n",
    "$$\\boldsymbol{R}_{\\boldsymbol{n}}=\\left[\\begin{array}{cc}\n",
    "\\sigma_{x_{m}}^{2} & 0 \\\\\n",
    "0 & \\sigma_{y_{m}}^{2}\n",
    "\\end{array}\\right]=\\left[\\begin{array}{ll}\n",
    "9 & 0 \\\\\n",
    "0 & 9\n",
    "\\end{array}\\right]$$"
   ]
  },
  {
   "cell_type": "code",
   "execution_count": 256,
   "id": "174b9518",
   "metadata": {},
   "outputs": [],
   "source": [
    "kf.R = np.array([[9, 0], [0, 9]])"
   ]
  },
  {
   "cell_type": "markdown",
   "id": "90c10bcd",
   "metadata": {},
   "source": [
    "### 4. Measurement function"
   ]
  },
  {
   "cell_type": "markdown",
   "id": "ddacd486",
   "metadata": {},
   "source": [
    "$$\n",
    "\\left[\\begin{array}{l}\n",
    "x_{n, \\text { measured }} \\\\\n",
    "y_{n, \\text { measured }}\n",
    "\\end{array}\\right]=\\boldsymbol{H}\\left[\\begin{array}{c}\n",
    "x_{n} \\\\\n",
    "\\dot{x}_{n} \\\\\n",
    "\\ddot{x}_{n} \\\\\n",
    "y_{n} \\\\\n",
    "\\dot{y}_{n} \\\\\n",
    "\\ddot{y}_{n}\n",
    "\\end{array}\\right] \\quad\n",
    "\\boldsymbol{H}=\\left[\\begin{array}{llllll}\n",
    "1 & 0 & 0 & 0 & 0 & 0 \\\\\n",
    "0 & 0 & 0 & 1 & 0 & 0\n",
    "\\end{array}\\right]\n",
    "$$"
   ]
  },
  {
   "cell_type": "code",
   "execution_count": 257,
   "id": "ddf7999e",
   "metadata": {},
   "outputs": [],
   "source": [
    "kf.H = np.array([[1, 0, 0, 0, 0, 0], [0, 0, 0, 1, 0, 0]])"
   ]
  },
  {
   "cell_type": "markdown",
   "id": "019339fa",
   "metadata": {},
   "source": [
    "### 4. Initalization\n",
    "$$\n",
    "\\begin{aligned}\n",
    "&\\hat{\\boldsymbol{x}}_{0,0}=\\left[\\begin{array}{c}\n",
    "0 \\\\\n",
    "0 \\\\\n",
    "0 \\\\\n",
    "0 \\\\\n",
    "0 \\\\\n",
    "0\n",
    "\\end{array}\\right]\n",
    "&\\boldsymbol{P}_{0,0}=\\left[\\begin{array}{cccccc}\n",
    "500 & 0 & 0 & 0 & 0 & 0 \\\\\n",
    "0 & 500 & 0 & 0 & 0 & 0 \\\\\n",
    "0 & 0 & 500 & 0 & 0 & 0 \\\\\n",
    "0 & 0 & 0 & 500 & 0 & 0 \\\\\n",
    "0 & 0 & 0 & 0 & 500 & 0 \\\\\n",
    "0 & 0 & 0 & 0 & 0 & 500\n",
    "\\end{array}\\right]\n",
    "\\end{aligned}\n",
    "$$"
   ]
  },
  {
   "cell_type": "code",
   "execution_count": 258,
   "id": "6a22cd6c",
   "metadata": {},
   "outputs": [],
   "source": [
    "kf.x = np.array([0, 0, 0, 0, 0, 0])\n",
    "kf.P = np.array([\n",
    "    [500, 0, 0, 0, 0, 0],\n",
    "    [0, 500, 0, 0, 0, 0],\n",
    "    [0, 0, 500, 0, 0, 0],\n",
    "    [0, 0, 0, 500, 0, 0],\n",
    "    [0, 0, 0, 0, 500, 0],\n",
    "    [0, 0, 0, 0, 0, 500],\n",
    "])"
   ]
  },
  {
   "cell_type": "code",
   "execution_count": 259,
   "id": "00fad2eb",
   "metadata": {
    "scrolled": false
   },
   "outputs": [
    {
     "data": {
      "text/plain": [
       "KalmanFilter object\n",
       "dim_x = 6\n",
       "dim_z = 2\n",
       "dim_u = 0\n",
       "x = [0 0 0 0 0 0]\n",
       "P = [[500   0   0   0   0   0]\n",
       "     [  0 500   0   0   0   0]\n",
       "     [  0   0 500   0   0   0]\n",
       "     [  0   0   0 500   0   0]\n",
       "     [  0   0   0   0 500   0]\n",
       "     [  0   0   0   0   0 500]]\n",
       "x_prior = [[0. 0. 0. 0. 0. 0.]].T\n",
       "P_prior = [[1. 0. 0. 0. 0. 0.]\n",
       "           [0. 1. 0. 0. 0. 0.]\n",
       "           [0. 0. 1. 0. 0. 0.]\n",
       "           [0. 0. 0. 1. 0. 0.]\n",
       "           [0. 0. 0. 0. 1. 0.]\n",
       "           [0. 0. 0. 0. 0. 1.]]\n",
       "x_post = [[0. 0. 0. 0. 0. 0.]].T\n",
       "P_post = [[1. 0. 0. 0. 0. 0.]\n",
       "          [0. 1. 0. 0. 0. 0.]\n",
       "          [0. 0. 1. 0. 0. 0.]\n",
       "          [0. 0. 0. 1. 0. 0.]\n",
       "          [0. 0. 0. 0. 1. 0.]\n",
       "          [0. 0. 0. 0. 0. 1.]]\n",
       "F = [[1.  1.  0.5 0.  0.  0. ]\n",
       "     [0.  1.  1.  0.  0.  0. ]\n",
       "     [0.  0.  1.  0.  0.  0. ]\n",
       "     [0.  0.  0.  1.  1.  0.5]\n",
       "     [0.  0.  0.  0.  1.  1. ]\n",
       "     [0.  0.  0.  0.  0.  1. ]]\n",
       "Q = [[0.0625 0.125  0.125  0.     0.     0.    ]\n",
       "     [0.125  0.25   0.25   0.     0.     0.    ]\n",
       "     [0.125  0.25   0.25   0.     0.     0.    ]\n",
       "     [0.     0.     0.     0.0625 0.125  0.125 ]\n",
       "     [0.     0.     0.     0.125  0.25   0.25  ]\n",
       "     [0.     0.     0.     0.125  0.25   0.25  ]]\n",
       "R = [[9 0]\n",
       "     [0 9]]\n",
       "H = [[1 0 0 0 0 0]\n",
       "     [0 0 0 1 0 0]]\n",
       "K = [[0. 0.]\n",
       "     [0. 0.]\n",
       "     [0. 0.]\n",
       "     [0. 0.]\n",
       "     [0. 0.]\n",
       "     [0. 0.]]\n",
       "y = [[0. 0.]].T\n",
       "S = [[0. 0.]\n",
       "     [0. 0.]]\n",
       "SI = [[0. 0.]\n",
       "      [0. 0.]]\n",
       "M = [[0. 0.]\n",
       "     [0. 0.]]\n",
       "B = None\n",
       "z = [[None None]].T\n",
       "log-likelihood = -708.3964185322641\n",
       "likelihood = 2.2250738585072014e-308\n",
       "mahalanobis = 0.0\n",
       "alpha = 1.0\n",
       "inv = <function inv at 0x0000025A5BC4B8B0>"
      ]
     },
     "execution_count": 259,
     "metadata": {},
     "output_type": "execute_result"
    }
   ],
   "source": [
    "kf"
   ]
  },
  {
   "cell_type": "markdown",
   "id": "01fc4225",
   "metadata": {},
   "source": [
    "# Predict"
   ]
  },
  {
   "cell_type": "code",
   "execution_count": 260,
   "id": "871cb22d",
   "metadata": {},
   "outputs": [
    {
     "data": {
      "text/plain": [
       "KalmanFilter object\n",
       "dim_x = 6\n",
       "dim_z = 2\n",
       "dim_u = 0\n",
       "x = [0. 0. 0. 0. 0. 0.]\n",
       "P = [[1125.0625  750.125   250.125     0.        0.        0.    ]\n",
       "     [ 750.125  1000.25    500.25      0.        0.        0.    ]\n",
       "     [ 250.125   500.25    500.25      0.        0.        0.    ]\n",
       "     [   0.        0.        0.     1125.0625  750.125   250.125 ]\n",
       "     [   0.        0.        0.      750.125  1000.25    500.25  ]\n",
       "     [   0.        0.        0.      250.125   500.25    500.25  ]]\n",
       "x_prior = [0. 0. 0. 0. 0. 0.]\n",
       "P_prior = [[1125.0625  750.125   250.125     0.        0.        0.    ]\n",
       "           [ 750.125  1000.25    500.25      0.        0.        0.    ]\n",
       "           [ 250.125   500.25    500.25      0.        0.        0.    ]\n",
       "           [   0.        0.        0.     1125.0625  750.125   250.125 ]\n",
       "           [   0.        0.        0.      750.125  1000.25    500.25  ]\n",
       "           [   0.        0.        0.      250.125   500.25    500.25  ]]\n",
       "x_post = [[0. 0. 0. 0. 0. 0.]].T\n",
       "P_post = [[1. 0. 0. 0. 0. 0.]\n",
       "          [0. 1. 0. 0. 0. 0.]\n",
       "          [0. 0. 1. 0. 0. 0.]\n",
       "          [0. 0. 0. 1. 0. 0.]\n",
       "          [0. 0. 0. 0. 1. 0.]\n",
       "          [0. 0. 0. 0. 0. 1.]]\n",
       "F = [[1.  1.  0.5 0.  0.  0. ]\n",
       "     [0.  1.  1.  0.  0.  0. ]\n",
       "     [0.  0.  1.  0.  0.  0. ]\n",
       "     [0.  0.  0.  1.  1.  0.5]\n",
       "     [0.  0.  0.  0.  1.  1. ]\n",
       "     [0.  0.  0.  0.  0.  1. ]]\n",
       "Q = [[0.0625 0.125  0.125  0.     0.     0.    ]\n",
       "     [0.125  0.25   0.25   0.     0.     0.    ]\n",
       "     [0.125  0.25   0.25   0.     0.     0.    ]\n",
       "     [0.     0.     0.     0.0625 0.125  0.125 ]\n",
       "     [0.     0.     0.     0.125  0.25   0.25  ]\n",
       "     [0.     0.     0.     0.125  0.25   0.25  ]]\n",
       "R = [[9 0]\n",
       "     [0 9]]\n",
       "H = [[1 0 0 0 0 0]\n",
       "     [0 0 0 1 0 0]]\n",
       "K = [[0. 0.]\n",
       "     [0. 0.]\n",
       "     [0. 0.]\n",
       "     [0. 0.]\n",
       "     [0. 0.]\n",
       "     [0. 0.]]\n",
       "y = [[0. 0.]].T\n",
       "S = [[0. 0.]\n",
       "     [0. 0.]]\n",
       "SI = [[0. 0.]\n",
       "      [0. 0.]]\n",
       "M = [[0. 0.]\n",
       "     [0. 0.]]\n",
       "B = None\n",
       "z = [[None None]].T\n",
       "log-likelihood = -708.3964185322641\n",
       "likelihood = 2.2250738585072014e-308\n",
       "mahalanobis = 0.0\n",
       "alpha = 1.0\n",
       "inv = <function inv at 0x0000025A5BC4B8B0>"
      ]
     },
     "execution_count": 260,
     "metadata": {},
     "output_type": "execute_result"
    }
   ],
   "source": [
    "kf.predict()\n",
    "kf"
   ]
  },
  {
   "cell_type": "markdown",
   "id": "aadc96bf",
   "metadata": {},
   "source": [
    "# Update"
   ]
  },
  {
   "cell_type": "code",
   "execution_count": 261,
   "id": "24c2b901",
   "metadata": {},
   "outputs": [
    {
     "data": {
      "text/plain": [
       "KalmanFilter object\n",
       "dim_x = 6\n",
       "dim_z = 2\n",
       "dim_u = 0\n",
       "x = [-390.53588647 -260.38618462  -86.82432185  298.01600441  198.69941031\n",
       "       66.2552108 ]\n",
       "P = [[  8.92857537   5.95304492   1.98500964   0.           0.\n",
       "        0.        ]\n",
       "     [  5.95304492 504.08024249 334.80496004   0.           0.\n",
       "        0.        ]\n",
       "     [  1.98500964 334.80496004 445.08327363   0.           0.\n",
       "        0.        ]\n",
       "     [  0.           0.           0.           8.92857537   5.95304492\n",
       "        1.98500964]\n",
       "     [  0.           0.           0.           5.95304492 504.08024249\n",
       "      334.80496004]\n",
       "     [  0.           0.           0.           1.98500964 334.80496004\n",
       "      445.08327363]]\n",
       "x_prior = [0. 0. 0. 0. 0. 0.]\n",
       "P_prior = [[1125.0625  750.125   250.125     0.        0.        0.    ]\n",
       "           [ 750.125  1000.25    500.25      0.        0.        0.    ]\n",
       "           [ 250.125   500.25    500.25      0.        0.        0.    ]\n",
       "           [   0.        0.        0.     1125.0625  750.125   250.125 ]\n",
       "           [   0.        0.        0.      750.125  1000.25    500.25  ]\n",
       "           [   0.        0.        0.      250.125   500.25    500.25  ]]\n",
       "x_post = [-390.53588647 -260.38618462  -86.82432185  298.01600441  198.69941031\n",
       "            66.2552108 ]\n",
       "P_post = [[  8.92857537   5.95304492   1.98500964   0.           0.\n",
       "             0.        ]\n",
       "          [  5.95304492 504.08024249 334.80496004   0.           0.\n",
       "             0.        ]\n",
       "          [  1.98500964 334.80496004 445.08327363   0.           0.\n",
       "             0.        ]\n",
       "          [  0.           0.           0.           8.92857537   5.95304492\n",
       "             1.98500964]\n",
       "          [  0.           0.           0.           5.95304492 504.08024249\n",
       "           334.80496004]\n",
       "          [  0.           0.           0.           1.98500964 334.80496004\n",
       "           445.08327363]]\n",
       "F = [[1.  1.  0.5 0.  0.  0. ]\n",
       "     [0.  1.  1.  0.  0.  0. ]\n",
       "     [0.  0.  1.  0.  0.  0. ]\n",
       "     [0.  0.  0.  1.  1.  0.5]\n",
       "     [0.  0.  0.  0.  1.  1. ]\n",
       "     [0.  0.  0.  0.  0.  1. ]]\n",
       "Q = [[0.0625 0.125  0.125  0.     0.     0.    ]\n",
       "     [0.125  0.25   0.25   0.     0.     0.    ]\n",
       "     [0.125  0.25   0.25   0.     0.     0.    ]\n",
       "     [0.     0.     0.     0.0625 0.125  0.125 ]\n",
       "     [0.     0.     0.     0.125  0.25   0.25  ]\n",
       "     [0.     0.     0.     0.125  0.25   0.25  ]]\n",
       "R = [[9 0]\n",
       "     [0 9]]\n",
       "H = [[1 0 0 0 0 0]\n",
       "     [0 0 0 1 0 0]]\n",
       "K = [[0.99206393 0.        ]\n",
       "     [0.66144944 0.        ]\n",
       "     [0.22055663 0.        ]\n",
       "     [0.         0.99206393]\n",
       "     [0.         0.66144944]\n",
       "     [0.         0.22055663]]\n",
       "y = [-393.66  300.4 ]\n",
       "S = [[1134.0625    0.    ]\n",
       "     [   0.     1134.0625]]\n",
       "SI = [[0.00088179 0.        ]\n",
       "      [0.         0.00088179]]\n",
       "M = [[0. 0.]\n",
       "     [0. 0.]]\n",
       "B = None\n",
       "z = [-393.66  300.4 ]\n",
       "log-likelihood = -116.98203909368722\n",
       "likelihood = 1.5679995720628996e-51\n",
       "mahalanobis = 14.704461937104023\n",
       "alpha = 1.0\n",
       "inv = <function inv at 0x0000025A5BC4B8B0>"
      ]
     },
     "execution_count": 261,
     "metadata": {},
     "output_type": "execute_result"
    }
   ],
   "source": [
    "kf.update(np.array([-393.66, 300.4]))\n",
    "kf"
   ]
  },
  {
   "cell_type": "code",
   "execution_count": 262,
   "id": "34c395e1",
   "metadata": {},
   "outputs": [
    {
     "name": "stdout",
     "output_type": "stream",
     "text": [
      "*************state*************\n",
      "[-390.53588647 -260.38618462  -86.82432185  298.01600441  198.69941031\n",
      "   66.2552108 ]\n",
      "*************location*************\n",
      "[-393.66  300.4 ]\n",
      "*************Kalman Gain*************\n",
      "[[0.99206393 0.        ]\n",
      " [0.66144944 0.        ]\n",
      " [0.22055663 0.        ]\n",
      " [0.         0.99206393]\n",
      " [0.         0.66144944]\n",
      " [0.         0.22055663]]\n",
      "*************Covariance matrix*************\n",
      "[[  8.92857537   5.95304492   1.98500964   0.           0.\n",
      "    0.        ]\n",
      " [  5.95304492 504.08024249 334.80496004   0.           0.\n",
      "    0.        ]\n",
      " [  1.98500964 334.80496004 445.08327363   0.           0.\n",
      "    0.        ]\n",
      " [  0.           0.           0.           8.92857537   5.95304492\n",
      "    1.98500964]\n",
      " [  0.           0.           0.           5.95304492 504.08024249\n",
      "  334.80496004]\n",
      " [  0.           0.           0.           1.98500964 334.80496004\n",
      "  445.08327363]]\n"
     ]
    }
   ],
   "source": [
    "print('*************state*************')\n",
    "print(kf.x)\n",
    "print('*************location*************')\n",
    "print(kf.y)\n",
    "print('*************Kalman Gain*************')\n",
    "print(kf.K)\n",
    "print('*************Covariance matrix*************')\n",
    "print(kf.P)"
   ]
  },
  {
   "cell_type": "markdown",
   "id": "9b6eaa56",
   "metadata": {},
   "source": [
    "# Implement"
   ]
  },
  {
   "cell_type": "code",
   "execution_count": 263,
   "id": "087ca87c",
   "metadata": {
    "scrolled": false
   },
   "outputs": [],
   "source": [
    "kf = KalmanFilter(dim_x=6, dim_z=2)\n",
    "\n",
    "# Variables\n",
    "kf.F = np.array([[1,1,0.5,0,0,0],[0,1,1,0,0,0],[0,0,1,0,0,0],[0,0,0,1,1,0.5],[0,0,0,0,1,1],[0,0,0,0,0,1]])\n",
    "kf.Q = np.array([[0.25,0.5,0.5,0,0,0],[0.5,1,1,0,0,0],[0.5,1,1,0,0,0],[0,0,0,0.25,0.5,0.5],[0,0,0,0.5,1,1],[0,0,0,0.5,1,1]])\n",
    "kf.Q *= 0.5**2\n",
    "kf.R = np.array([[9, 0], [0, 9]])\n",
    "kf.H = np.array([[1, 0, 0, 0, 0, 0], [0, 0, 0, 1, 0, 0]])\n",
    "\n",
    "# Initalizaiton\n",
    "kf.x = np.array([0, 0, 0, 0, 0, 0])\n",
    "kf.P *= 500\n",
    "\n",
    "# noisy measurements\n",
    "measurements = np.array([\n",
    "    [-393.66,  300.4 ],\n",
    "    [-375.93,  301.78],\n",
    "    [-351.04,  295.1 ],\n",
    "    [-328.96,  305.19],\n",
    "    [-299.35,  301.06],\n",
    "    [-273.36,  302.05],\n",
    "    [-245.89,  300.  ],\n",
    "    [-222.58,  303.57],\n",
    "    [-198.03,  296.33],\n",
    "    [-174.17,  297.65],\n",
    "    [-146.32,  297.41],\n",
    "    [-123.72,  299.61],\n",
    "    [-103.47,  299.6 ],\n",
    "    [ -78.23,  302.39],\n",
    "    [ -52.63,  295.04],\n",
    "    [ -23.34,  300.09],\n",
    "    [  25.96,  294.72],\n",
    "    [  49.72,  298.61],\n",
    "    [  76.94,  294.64],\n",
    "    [  95.38,  284.88],\n",
    "    [ 119.83,  272.82],\n",
    "    [ 144.01,  264.93],\n",
    "    [ 161.84,  251.46],\n",
    "    [ 180.56,  241.27],\n",
    "    [ 201.42,  222.98],\n",
    "    [ 222.62,  203.73],\n",
    "    [ 239.4 ,  184.1 ],\n",
    "    [ 252.51,  166.12],\n",
    "    [ 266.26,  138.71],\n",
    "    [ 271.75,  119.71],\n",
    "    [ 277.4 ,  100.41],\n",
    "    [ 294.12,   79.76],\n",
    "    [ 301.23,   50.62],\n",
    "    [ 291.8 ,   32.99],\n",
    "    [ 299.89,    2.14]\n",
    "])"
   ]
  },
  {
   "cell_type": "code",
   "execution_count": 264,
   "id": "a78d7fe4",
   "metadata": {},
   "outputs": [],
   "source": [
    "kf.predict() # x1, p1\n",
    "\n",
    "estimates = np.zeros_like(measurements)\n",
    "for idx in range(0, len(measurements)):\n",
    "    m = measurements[idx]    \n",
    "    kf.update(m)\n",
    "    estimates[idx,0] = kf.x[0]\n",
    "    estimates[idx,1] = kf.x[3]\n",
    "    \n",
    "    kf.predict()"
   ]
  },
  {
   "cell_type": "code",
   "execution_count": 271,
   "id": "b40fde1a",
   "metadata": {},
   "outputs": [
    {
     "data": {
      "text/plain": [
       "<matplotlib.legend.Legend at 0x25a010e4eb0>"
      ]
     },
     "execution_count": 271,
     "metadata": {},
     "output_type": "execute_result"
    },
    {
     "data": {
      "image/png": "[encoded data removed]",
      "text/plain": [
       "<Figure size 864x360 with 1 Axes>"
      ]
     },
     "metadata": {
      "needs_background": "light"
     },
     "output_type": "display_data"
    }
   ],
   "source": [
    "import matplotlib.pyplot as plt\n",
    "\n",
    "plt.figure(figsize=(12,5))\n",
    "plt.scatter(measurements[:,0], measurements[:,1])\n",
    "plt.scatter(estimates[:,0], estimates[:,1])\n",
    "plt.legend(['Measurements', 'Estiamte'])"
   ]
  }
 ],
 "metadata": {
  "kernelspec": {
   "display_name": "object_tracking",
   "language": "python",
   "name": "object_tracking"
  },
  "language_info": {
   "codemirror_mode": {
    "name": "ipython",
    "version": 3
   },
   "file_extension": ".py",
   "mimetype": "text/x-python",
   "name": "python",
   "nbconvert_exporter": "python",
   "pygments_lexer": "ipython3",
   "version": "3.8.8"
  },
  "varInspector": {
   "cols": {
    "lenName": 16,
    "lenType": 16,
    "lenVar": 40
   },
   "kernels_config": {
    "python": {
     "delete_cmd_postfix": "",
     "delete_cmd_prefix": "del ",
     "library": "var_list.py",
     "varRefreshCmd": "print(var_dic_list())"
    },
    "r": {
     "delete_cmd_postfix": ") ",
     "delete_cmd_prefix": "rm(",
     "library": "var_list.r",
     "varRefreshCmd": "cat(var_dic_list()) "
    }
   },
   "types_to_exclude": [
    "module",
    "function",
    "builtin_function_or_method",
    "instance",
    "_Feature"
   ],
   "window_display": false
  }
 },
 "nbformat": 4,
 "nbformat_minor": 5
}
